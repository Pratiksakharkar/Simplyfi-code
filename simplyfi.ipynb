{
 "cells": [
  {
   "cell_type": "markdown",
   "id": "e3c66e60",
   "metadata": {},
   "source": [
    "# Question 1-code"
   ]
  },
  {
   "cell_type": "code",
   "execution_count": 1,
   "id": "289546cf",
   "metadata": {},
   "outputs": [
    {
     "name": "stdout",
     "output_type": "stream",
     "text": [
      "5,04,678\n"
     ]
    }
   ],
   "source": [
    "no = 504678\n",
    "list1 = list(str(no))         # It splits the the no in integer \n",
    "y=len(list1)\n",
    "x= 3                          # In currancy notation we put the coma in 4 & above 4 digits no \n",
    "                              # (right to left except 3 digits)\n",
    "for i in range(1,y+1):\n",
    "    if i==x and y-x!=0:       # (y-x=0) condition will avoid the coma if the no is 3 digits\n",
    "        list1.insert(y-x,',') # It will insert the coma after 3 digits right to left\n",
    "        x+=2                  # It helps to insert the coma after 5 digits in 2nd iteration\n",
    "print(''.join(list1))"
   ]
  },
  {
   "cell_type": "markdown",
   "id": "33b58a0f",
   "metadata": {},
   "source": [
    "# Question 2-code"
   ]
  },
  {
   "cell_type": "markdown",
   "id": "4ab2043d",
   "metadata": {},
   "source": [
    "# Test case 1"
   ]
  },
  {
   "cell_type": "code",
   "execution_count": 2,
   "id": "b8054cd7",
   "metadata": {},
   "outputs": [
    {
     "name": "stdout",
     "output_type": "stream",
     "text": [
      "Enter height_of_ali: 10\n",
      "Persons_behind_ali: 4\n",
      "[4, 10]\n"
     ]
    }
   ],
   "source": [
    "h_ali=int(input(\"Enter height_of_ali: \"))\n",
    "persons_behind_ali=int(input(\"Persons_behind_ali: \"))\n",
    "list1 =[persons_behind_ali,h_ali]\n",
    "print(list1)"
   ]
  },
  {
   "cell_type": "code",
   "execution_count": 3,
   "id": "a7a2f5ea",
   "metadata": {},
   "outputs": [
    {
     "name": "stdout",
     "output_type": "stream",
     "text": [
      "Enter persons height: 2\n",
      "Enter persons height: 13\n",
      "Enter persons height: 4\n",
      "Enter persons height: 16\n"
     ]
    }
   ],
   "source": [
    "# height of persons behind ali\n",
    "list2=[ ]\n",
    "for i in range(persons_behind_ali):\n",
    "    person_h=int(input(\"Enter persons height: \"))\n",
    "    list2.append(person_h)"
   ]
  },
  {
   "cell_type": "code",
   "execution_count": 4,
   "id": "b1d96c35",
   "metadata": {},
   "outputs": [
    {
     "name": "stdout",
     "output_type": "stream",
     "text": [
      "2\n"
     ]
    }
   ],
   "source": [
    "# shot the persons who's height is greater that ali's height\n",
    "shot=0\n",
    "for i in range(len(list2)):\n",
    "    if list2[i]>h_ali:\n",
    "        shot+=1\n",
    "print(shot)"
   ]
  },
  {
   "cell_type": "code",
   "execution_count": 5,
   "id": "0ec0460b",
   "metadata": {},
   "outputs": [
    {
     "name": "stdout",
     "output_type": "stream",
     "text": [
      "No of persons behind ali and ali's height:[4, 10]\n",
      "Height of persons behind ali:[2, 13, 4, 16]\n",
      "No of persons shot:2\n"
     ]
    }
   ],
   "source": [
    "##Test Case-1 results \n",
    "print(f\"No of persons behind ali and ali's height:{list1}\")\n",
    "print(f\"Height of persons behind ali:{list2}\")\n",
    "print(f\"No of persons shot:{shot}\")"
   ]
  },
  {
   "cell_type": "markdown",
   "id": "4efff977",
   "metadata": {},
   "source": [
    "# Test Case 2"
   ]
  },
  {
   "cell_type": "code",
   "execution_count": 6,
   "id": "e20111e4",
   "metadata": {},
   "outputs": [
    {
     "name": "stdout",
     "output_type": "stream",
     "text": [
      "Enter height_of_ali: 8\n",
      "Persons_behind_ali: 5\n",
      "[5, 8]\n"
     ]
    }
   ],
   "source": [
    "h_ali=int(input(\"Enter height_of_ali: \"))\n",
    "persons_behind_ali=int(input(\"Persons_behind_ali: \"))\n",
    "list1 =[persons_behind_ali,h_ali]\n",
    "print(list1)"
   ]
  },
  {
   "cell_type": "code",
   "execution_count": 7,
   "id": "6f3dbf5a",
   "metadata": {},
   "outputs": [
    {
     "name": "stdout",
     "output_type": "stream",
     "text": [
      "Enter persons height: 9\n",
      "Enter persons height: 3\n",
      "Enter persons height: 8\n",
      "Enter persons height: 8\n",
      "Enter persons height: 4\n"
     ]
    }
   ],
   "source": [
    "# height of persons behind ali\n",
    "list2=[ ]\n",
    "for i in range(persons_behind_ali):\n",
    "    person_h=int(input(\"Enter persons height: \"))\n",
    "    list2.append(person_h)"
   ]
  },
  {
   "cell_type": "code",
   "execution_count": 8,
   "id": "06de5207",
   "metadata": {},
   "outputs": [
    {
     "name": "stdout",
     "output_type": "stream",
     "text": [
      "1\n"
     ]
    }
   ],
   "source": [
    "# shot the persons who's height is greater that ali's height\n",
    "shot=0\n",
    "for i in range(len(list2)):\n",
    "    if list2[i]>h_ali:\n",
    "        shot+=1\n",
    "print(shot)"
   ]
  },
  {
   "cell_type": "code",
   "execution_count": 9,
   "id": "71db584d",
   "metadata": {},
   "outputs": [
    {
     "name": "stdout",
     "output_type": "stream",
     "text": [
      "No of persons behind ali and ali's height:[5, 8]\n",
      "Height of persons behind ali:[9, 3, 8, 8, 4]\n",
      "No of persons shot:1\n"
     ]
    }
   ],
   "source": [
    "##Test Case-2 results \n",
    "print(f\"No of persons behind ali and ali's height:{list1}\")\n",
    "print(f\"Height of persons behind ali:{list2}\")\n",
    "print(f\"No of persons shot:{shot}\")"
   ]
  },
  {
   "cell_type": "markdown",
   "id": "e3c19c4d",
   "metadata": {},
   "source": [
    "# Test Case 3"
   ]
  },
  {
   "cell_type": "code",
   "execution_count": 10,
   "id": "848d0ddc",
   "metadata": {},
   "outputs": [
    {
     "name": "stdout",
     "output_type": "stream",
     "text": [
      "Enter height_of_ali: 6\n",
      "Persons_behind_ali: 4\n",
      "[4, 6]\n"
     ]
    }
   ],
   "source": [
    "h_ali=int(input(\"Enter height_of_ali: \"))\n",
    "persons_behind_ali=int(input(\"Persons_behind_ali: \"))\n",
    "list1 =[persons_behind_ali,h_ali]\n",
    "print(list1)"
   ]
  },
  {
   "cell_type": "code",
   "execution_count": 11,
   "id": "c5ad35a2",
   "metadata": {},
   "outputs": [
    {
     "name": "stdout",
     "output_type": "stream",
     "text": [
      "Enter persons height: 1\n",
      "Enter persons height: 2\n",
      "Enter persons height: 3\n",
      "Enter persons height: 4\n"
     ]
    }
   ],
   "source": [
    "# height of persons behind ali\n",
    "list2=[ ]\n",
    "for i in range(persons_behind_ali):\n",
    "    person_h=int(input(\"Enter persons height: \"))\n",
    "    list2.append(person_h)"
   ]
  },
  {
   "cell_type": "code",
   "execution_count": 12,
   "id": "6a70cac4",
   "metadata": {},
   "outputs": [
    {
     "name": "stdout",
     "output_type": "stream",
     "text": [
      "0\n"
     ]
    }
   ],
   "source": [
    "# shot the persons who's height is greater that ali's height\n",
    "shot=0\n",
    "for i in range(len(list2)):\n",
    "    if list2[i]>h_ali:\n",
    "        shot+=1\n",
    "print(shot)"
   ]
  },
  {
   "cell_type": "code",
   "execution_count": 13,
   "id": "183f3ae8",
   "metadata": {},
   "outputs": [
    {
     "name": "stdout",
     "output_type": "stream",
     "text": [
      "No of persons behind ali and ali's height:[4, 6]\n",
      "Height of persons behind ali:[1, 2, 3, 4]\n",
      "No of persons shot:0\n"
     ]
    }
   ],
   "source": [
    "##Test Case-3 results \n",
    "print(f\"No of persons behind ali and ali's height:{list1}\")\n",
    "print(f\"Height of persons behind ali:{list2}\")\n",
    "print(f\"No of persons shot:{shot}\")"
   ]
  },
  {
   "cell_type": "code",
   "execution_count": null,
   "id": "f9f186e1",
   "metadata": {},
   "outputs": [],
   "source": []
  },
  {
   "cell_type": "code",
   "execution_count": null,
   "id": "f0e290cc",
   "metadata": {},
   "outputs": [],
   "source": []
  },
  {
   "cell_type": "code",
   "execution_count": null,
   "id": "d1c57101",
   "metadata": {},
   "outputs": [],
   "source": []
  },
  {
   "cell_type": "code",
   "execution_count": null,
   "id": "0ebddbab",
   "metadata": {},
   "outputs": [],
   "source": []
  },
  {
   "cell_type": "code",
   "execution_count": null,
   "id": "d755f1a7",
   "metadata": {},
   "outputs": [],
   "source": []
  }
 ],
 "metadata": {
  "kernelspec": {
   "display_name": "Python 3 (ipykernel)",
   "language": "python",
   "name": "python3"
  },
  "language_info": {
   "codemirror_mode": {
    "name": "ipython",
    "version": 3
   },
   "file_extension": ".py",
   "mimetype": "text/x-python",
   "name": "python",
   "nbconvert_exporter": "python",
   "pygments_lexer": "ipython3",
   "version": "3.9.12"
  }
 },
 "nbformat": 4,
 "nbformat_minor": 5
}
